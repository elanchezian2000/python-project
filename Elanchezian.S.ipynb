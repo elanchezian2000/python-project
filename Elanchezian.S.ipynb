{
  "nbformat": 4,
  "nbformat_minor": 0,
  "metadata": {
    "colab": {
      "name": "Untitled1.ipynb",
      "provenance": []
    },
    "kernelspec": {
      "name": "python3",
      "display_name": "Python 3"
    },
    "language_info": {
      "name": "python"
    }
  },
  "cells": [
    {
      "cell_type": "code",
      "metadata": {
        "id": "gxDUF4PgDKhT"
      },
      "source": [
        ""
      ],
      "execution_count": null,
      "outputs": []
    },
    {
      "cell_type": "code",
      "metadata": {
        "id": "45OlKeZDAiWE",
        "colab": {
          "base_uri": "https://localhost:8080/"
        },
        "outputId": "539d7f39-7c2d-4c4d-e056-109e10225eb4"
      },
      "source": [
        "text=\"Think and wonder, wonder and think.\"\n",
        "import hashlib\n",
        "hash_object=hashlib.md5(text.encode())\n",
        "md5_hash=hash_object.hexdigest()\n",
        "print(md5_hash)"
      ],
      "execution_count": 1,
      "outputs": [
        {
          "output_type": "stream",
          "text": [
            "e21bf3fe43a5974d726935f5c63f3b13\n"
          ],
          "name": "stdout"
        }
      ]
    }
  ]
}